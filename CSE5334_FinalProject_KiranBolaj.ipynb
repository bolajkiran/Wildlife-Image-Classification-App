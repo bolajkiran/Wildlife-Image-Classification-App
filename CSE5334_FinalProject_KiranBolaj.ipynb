{
  "nbformat": 4,
  "nbformat_minor": 0,
  "metadata": {
    "colab": {
      "provenance": []
    },
    "kernelspec": {
      "name": "python3",
      "display_name": "Python 3"
    },
    "language_info": {
      "name": "python"
    }
  },
  "cells": [
    {
      "cell_type": "markdown",
      "source": [
        "# **Wildlife Image Classifier App**"
      ],
      "metadata": {
        "id": "ujbxUi9UOo5Y"
      }
    },
    {
      "cell_type": "markdown",
      "source": [
        "Mount the GDrive in this Google colab"
      ],
      "metadata": {
        "id": "SxBa4yXjSEVD"
      }
    },
    {
      "cell_type": "code",
      "source": [
        "# Code for mounting your Gdrive\n",
        "\n",
        "from google.colab import drive\n",
        "drive.mount('/content/drive')"
      ],
      "metadata": {
        "colab": {
          "base_uri": "https://localhost:8080/"
        },
        "id": "ijXNXUVPDdX0",
        "outputId": "20122105-e326-47e8-aa4f-a5c73d989bdc"
      },
      "execution_count": 31,
      "outputs": [
        {
          "output_type": "stream",
          "name": "stdout",
          "text": [
            "Drive already mounted at /content/drive; to attempt to forcibly remount, call drive.mount(\"/content/drive\", force_remount=True).\n"
          ]
        }
      ]
    },
    {
      "cell_type": "markdown",
      "source": [
        "Import all the important libraries (we will import other necessary libraries later)."
      ],
      "metadata": {
        "id": "h6aE_UgjSNRF"
      }
    },
    {
      "cell_type": "code",
      "source": [
        "import matplotlib.pyplot as plt\n",
        "import numpy as np\n",
        "import PIL\n",
        "import tensorflow as tf\n",
        "\n",
        "from tensorflow import keras\n",
        "from tensorflow.keras import layers\n",
        "from tensorflow.keras.models import Sequential"
      ],
      "metadata": {
        "id": "JgwpyVfSEXuV"
      },
      "execution_count": 32,
      "outputs": []
    },
    {
      "cell_type": "code",
      "source": [
        "import pathlib\n",
        "data_dir = \"/content/drive/MyDrive/wildlife_images\"\n",
        "data_dir = pathlib.Path(data_dir)\n",
        "new_directory = \"/content/drive/MyDrive/animals\"\n"
      ],
      "metadata": {
        "id": "u3lyD-hEEpbs"
      },
      "execution_count": 33,
      "outputs": []
    },
    {
      "cell_type": "code",
      "source": [
        "%mkdir /content/drive/MyDrive/animals\n",
        "%cd /content/drive/MyDrive/animals/\n",
        "%mkdir fox cheetah hyena lion tiger wolf"
      ],
      "metadata": {
        "id": "vLKpOaCBNqIy",
        "colab": {
          "base_uri": "https://localhost:8080/"
        },
        "outputId": "15e61716-182a-4d3f-cfd0-c86a675ee94f"
      },
      "execution_count": 34,
      "outputs": [
        {
          "output_type": "stream",
          "name": "stdout",
          "text": [
            "mkdir: cannot create directory ‘/content/drive/MyDrive/animals’: File exists\n",
            "/content/drive/MyDrive/animals\n",
            "mkdir: cannot create directory ‘fox’: File exists\n",
            "mkdir: cannot create directory ‘cheetah’: File exists\n",
            "mkdir: cannot create directory ‘hyena’: File exists\n",
            "mkdir: cannot create directory ‘lion’: File exists\n",
            "mkdir: cannot create directory ‘tiger’: File exists\n",
            "mkdir: cannot create directory ‘wolf’: File exists\n"
          ]
        }
      ]
    },
    {
      "cell_type": "code",
      "source": [
        "image_count = len(list(data_dir.glob('*/*/*')))\n",
        "print(image_count)"
      ],
      "metadata": {
        "colab": {
          "base_uri": "https://localhost:8080/"
        },
        "id": "kzq60CfXFc6M",
        "outputId": "e5c0217f-edb7-47bf-8d41-87070528d55a"
      },
      "execution_count": 35,
      "outputs": [
        {
          "output_type": "stream",
          "name": "stdout",
          "text": [
            "5169\n"
          ]
        }
      ]
    },
    {
      "cell_type": "code",
      "source": [
        "from PIL import Image\n",
        "import os\n",
        "\n",
        "list_labels = ['cheetah', 'fox', 'hyena', 'lion', 'tiger', 'wolf']\n",
        "print(list_labels)\n",
        "\n",
        "for label in list_labels:\n",
        "  for img in list(data_dir.glob(label + '-*/*/*')):\n",
        "    img_base = os.path.basename(img)\n",
        "    img_name = os.path.splitext(img_base)[0]\n",
        "    #print(img_name)\n",
        "    image_path = Image.open(img)\n",
        "    new_image_path = new_directory + \"/\" + label + \"/\" + img_name + \".jpg\";\n",
        "    rgb_im = image_path.convert('RGB')\n",
        "    rgb_im.save(new_image_path)\n",
        "\n",
        "\n",
        "#im1 = Image.open(r'path where the PNG is stored\\file name.png')\n",
        "#im1.save(r'path where the JPG will be stored\\new file name.jpg')"
      ],
      "metadata": {
        "colab": {
          "base_uri": "https://localhost:8080/"
        },
        "id": "9GV6ndhTN52P",
        "outputId": "71aa18e0-d722-4d38-c8db-24a452d70282"
      },
      "execution_count": null,
      "outputs": [
        {
          "metadata": {
            "tags": null
          },
          "name": "stdout",
          "output_type": "stream",
          "text": [
            "['cheetah', 'fox', 'hyena', 'lion', 'tiger', 'wolf']\n"
          ]
        },
        {
          "metadata": {
            "tags": null
          },
          "name": "stderr",
          "output_type": "stream",
          "text": [
            "/usr/local/lib/python3.7/dist-packages/PIL/Image.py:960: UserWarning: Palette images with Transparency expressed in bytes should be converted to RGBA images\n",
            "  \"Palette images with Transparency expressed in bytes should be \"\n"
          ]
        }
      ]
    },
    {
      "cell_type": "markdown",
      "source": [
        "Load data using a Keras utility"
      ],
      "metadata": {
        "id": "uJdO7kS4GRfd"
      }
    },
    {
      "cell_type": "code",
      "source": [
        "batch_size = 32\n",
        "img_height = 200\n",
        "img_width = 200"
      ],
      "metadata": {
        "id": "9OYVsOoFGS5o"
      },
      "execution_count": 36,
      "outputs": []
    },
    {
      "cell_type": "markdown",
      "source": [
        "Doing validation split on dataset to segregate as train data (80%) and test data (20%)"
      ],
      "metadata": {
        "id": "uu1WOOLUGfpP"
      }
    },
    {
      "cell_type": "code",
      "source": [
        "train_ds = tf.keras.utils.image_dataset_from_directory(\n",
        "  new_directory,\n",
        "  validation_split=0.2,\n",
        "  subset=\"training\",\n",
        "  seed=123,\n",
        "  image_size=(img_height, img_width),\n",
        "  batch_size=batch_size)"
      ],
      "metadata": {
        "colab": {
          "base_uri": "https://localhost:8080/"
        },
        "id": "OGt_3v2ZGbDF",
        "outputId": "ad7839ff-e55b-4b0c-e403-7b0cb772e061"
      },
      "execution_count": 37,
      "outputs": [
        {
          "output_type": "stream",
          "name": "stdout",
          "text": [
            "Found 5169 files belonging to 7 classes.\n",
            "Using 4136 files for training.\n"
          ]
        }
      ]
    },
    {
      "cell_type": "code",
      "source": [
        "val_ds = tf.keras.utils.image_dataset_from_directory(\n",
        "  new_directory,\n",
        "  validation_split=0.2,\n",
        "  subset=\"validation\",\n",
        "  seed=123,\n",
        "  image_size=(img_height, img_width),\n",
        "  batch_size=batch_size)"
      ],
      "metadata": {
        "colab": {
          "base_uri": "https://localhost:8080/"
        },
        "id": "ApIWbS1JGleb",
        "outputId": "c4fa7170-d32d-4a7d-f01b-bf300a4f7f66"
      },
      "execution_count": 38,
      "outputs": [
        {
          "output_type": "stream",
          "name": "stdout",
          "text": [
            "Found 5169 files belonging to 7 classes.\n",
            "Using 1033 files for validation.\n"
          ]
        }
      ]
    },
    {
      "cell_type": "code",
      "source": [
        "class_names = train_ds.class_names\n",
        "print(class_names)"
      ],
      "metadata": {
        "colab": {
          "base_uri": "https://localhost:8080/"
        },
        "id": "bdhjM4pPGoyx",
        "outputId": "efafbc63-842d-4f02-96d1-b43e57ec2c8f"
      },
      "execution_count": 39,
      "outputs": [
        {
          "output_type": "stream",
          "name": "stdout",
          "text": [
            "['cheetah', 'flagged', 'fox', 'hyena', 'lion', 'tiger', 'wolf']\n"
          ]
        }
      ]
    },
    {
      "cell_type": "code",
      "source": [
        "for image_batch, labels_batch in train_ds:\n",
        "  print(image_batch.shape)\n",
        "  print(labels_batch.shape)\n",
        "  break"
      ],
      "metadata": {
        "colab": {
          "base_uri": "https://localhost:8080/"
        },
        "id": "YLKntrpiHO0G",
        "outputId": "0e55cef2-df7b-4c4f-ec9f-9bd182c85358"
      },
      "execution_count": 40,
      "outputs": [
        {
          "output_type": "stream",
          "name": "stdout",
          "text": [
            "(32, 200, 200, 3)\n",
            "(32,)\n"
          ]
        }
      ]
    },
    {
      "cell_type": "markdown",
      "source": [
        "Configure the dataset for performance"
      ],
      "metadata": {
        "id": "RgM9XXklHXEc"
      }
    },
    {
      "cell_type": "code",
      "source": [
        "AUTOTUNE = tf.data.AUTOTUNE\n",
        "\n",
        "train_ds = train_ds.cache().shuffle(1000).prefetch(buffer_size=AUTOTUNE)\n",
        "val_ds = val_ds.cache().prefetch(buffer_size=AUTOTUNE)"
      ],
      "metadata": {
        "id": "ALeMjZVPHYIE"
      },
      "execution_count": null,
      "outputs": []
    },
    {
      "cell_type": "markdown",
      "source": [
        "Standardize the data"
      ],
      "metadata": {
        "id": "M5yv6uIDHfBl"
      }
    },
    {
      "cell_type": "code",
      "source": [
        "normalization_layer = layers.Rescaling(1./255)"
      ],
      "metadata": {
        "id": "XFZsT9ZxHgxT"
      },
      "execution_count": null,
      "outputs": []
    },
    {
      "cell_type": "markdown",
      "source": [
        "# CNN Model 1: A Basic Keras Model"
      ],
      "metadata": {
        "id": "eIzQpU5Rzdk3"
      }
    },
    {
      "cell_type": "code",
      "source": [
        "num_classes = len(class_names)\n",
        "\n",
        "cnn_model_1 = Sequential([\n",
        "  layers.Rescaling(1./255, input_shape=(img_height, img_width, 3)),\n",
        "  layers.Conv2D(16, 3, padding='same', activation='relu'),\n",
        "  layers.MaxPooling2D(),\n",
        "  layers.Conv2D(32, 3, padding='same', activation='relu'),\n",
        "  layers.MaxPooling2D(),\n",
        "  layers.Conv2D(64, 3, padding='same', activation='relu'),\n",
        "  layers.MaxPooling2D(),\n",
        "  layers.Flatten(),\n",
        "  layers.Dense(128, activation='relu'),\n",
        "  layers.Dense(num_classes)\n",
        "])"
      ],
      "metadata": {
        "id": "MYe2pcL1Ihzg"
      },
      "execution_count": 41,
      "outputs": []
    },
    {
      "cell_type": "code",
      "source": [
        "cnn_model_1.compile(optimizer='adam',\n",
        "              loss=tf.keras.losses.SparseCategoricalCrossentropy(from_logits=True),\n",
        "              metrics=['accuracy'])"
      ],
      "metadata": {
        "id": "73_EFIsuIwr5"
      },
      "execution_count": 42,
      "outputs": []
    },
    {
      "cell_type": "code",
      "source": [
        "cnn_model_1.summary()"
      ],
      "metadata": {
        "colab": {
          "base_uri": "https://localhost:8080/"
        },
        "id": "3-wG0PNyI0Hc",
        "outputId": "f04d0e79-629e-44ed-85fc-9ce253c88455"
      },
      "execution_count": 43,
      "outputs": [
        {
          "output_type": "stream",
          "name": "stdout",
          "text": [
            "Model: \"sequential_2\"\n",
            "_________________________________________________________________\n",
            " Layer (type)                Output Shape              Param #   \n",
            "=================================================================\n",
            " rescaling_1 (Rescaling)     (None, 200, 200, 3)       0         \n",
            "                                                                 \n",
            " conv2d_7 (Conv2D)           (None, 200, 200, 16)      448       \n",
            "                                                                 \n",
            " max_pooling2d_7 (MaxPooling  (None, 100, 100, 16)     0         \n",
            " 2D)                                                             \n",
            "                                                                 \n",
            " conv2d_8 (Conv2D)           (None, 100, 100, 32)      4640      \n",
            "                                                                 \n",
            " max_pooling2d_8 (MaxPooling  (None, 50, 50, 32)       0         \n",
            " 2D)                                                             \n",
            "                                                                 \n",
            " conv2d_9 (Conv2D)           (None, 50, 50, 64)        18496     \n",
            "                                                                 \n",
            " max_pooling2d_9 (MaxPooling  (None, 25, 25, 64)       0         \n",
            " 2D)                                                             \n",
            "                                                                 \n",
            " flatten_2 (Flatten)         (None, 40000)             0         \n",
            "                                                                 \n",
            " dense_3 (Dense)             (None, 128)               5120128   \n",
            "                                                                 \n",
            " dense_4 (Dense)             (None, 7)                 903       \n",
            "                                                                 \n",
            "=================================================================\n",
            "Total params: 5,144,615\n",
            "Trainable params: 5,144,615\n",
            "Non-trainable params: 0\n",
            "_________________________________________________________________\n"
          ]
        }
      ]
    },
    {
      "cell_type": "code",
      "source": [
        "epochs=5\n",
        "history_cnn_model_1 = cnn_model_1.fit(\n",
        "  train_ds,\n",
        "  validation_data=val_ds,\n",
        "  epochs=epochs\n",
        ")"
      ],
      "metadata": {
        "colab": {
          "base_uri": "https://localhost:8080/"
        },
        "id": "2yddQ3RRI3Hw",
        "outputId": "4a0c3eab-ae22-4043-b928-eca91efe81e1"
      },
      "execution_count": null,
      "outputs": [
        {
          "output_type": "stream",
          "name": "stdout",
          "text": [
            "Epoch 1/5\n",
            "130/130 [==============================] - 458s 4s/step - loss: 1.3169 - accuracy: 0.5022 - val_loss: 1.2132 - val_accuracy: 0.5363\n",
            "Epoch 2/5\n",
            "130/130 [==============================] - 181s 1s/step - loss: 0.6814 - accuracy: 0.7718 - val_loss: 0.4614 - val_accuracy: 0.8567\n",
            "Epoch 3/5\n",
            "130/130 [==============================] - 180s 1s/step - loss: 0.2274 - accuracy: 0.9279 - val_loss: 0.1640 - val_accuracy: 0.9477\n",
            "Epoch 4/5\n",
            "130/130 [==============================] - 181s 1s/step - loss: 0.0549 - accuracy: 0.9867 - val_loss: 0.0368 - val_accuracy: 0.9913\n",
            "Epoch 5/5\n",
            "130/130 [==============================] - 180s 1s/step - loss: 0.0116 - accuracy: 0.9983 - val_loss: 0.0098 - val_accuracy: 0.9971\n"
          ]
        }
      ]
    },
    {
      "cell_type": "markdown",
      "source": [
        "# CNN Model 2: Experimenting with Convolutional Pooling Pairs"
      ],
      "metadata": {
        "id": "xayMz6QBzmPX"
      }
    },
    {
      "cell_type": "code",
      "source": [
        "cnn_model_2 = Sequential()\n",
        "from tensorflow.keras.layers import Conv2D, MaxPool2D, Flatten, Dense\n",
        "\n",
        "# Adding first pair {8C5-P2}\n",
        "cnn_model_2.add(Conv2D(8, kernel_size=5, padding='same', activation='relu', input_shape=(img_height, img_width, 3)))\n",
        "cnn_model_2.add(MaxPool2D())\n",
        "\n",
        "# Adding second pair {16C5-P2}\n",
        "cnn_model_2.add(Conv2D(16, kernel_size=5, padding='same', activation='relu'))\n",
        "cnn_model_2.add(MaxPool2D())\n",
        "\n",
        "# Adding third pair {32C5-P2}\n",
        "cnn_model_2.add(Conv2D(32, kernel_size=5, padding='same', activation='relu'))\n",
        "cnn_model_2.add(MaxPool2D())\n",
        "\n",
        "# Adding fourth pair {64C5-P2}\n",
        "cnn_model_2.add(Conv2D(64, kernel_size=5, padding='same', activation='relu'))\n",
        "cnn_model_2.add(MaxPool2D())\n",
        "\n",
        "# Adding fully connected layers\n",
        "cnn_model_2.add(Flatten())\n",
        "cnn_model_2.add(Dense(6*16, activation=\"relu\"))"
      ],
      "metadata": {
        "id": "K0FW8i3yyjjg"
      },
      "execution_count": null,
      "outputs": []
    },
    {
      "cell_type": "code",
      "source": [
        "cnn_model_2.compile(optimizer='adam',\n",
        "              loss=tf.keras.losses.SparseCategoricalCrossentropy(from_logits=True),\n",
        "              metrics=['accuracy'])"
      ],
      "metadata": {
        "id": "2tN6busp0PTB"
      },
      "execution_count": null,
      "outputs": []
    },
    {
      "cell_type": "code",
      "source": [
        "epochs = 5\n",
        "history_cnn_model_2 = cnn_model_2.fit(\n",
        "  train_ds,\n",
        "  validation_data=val_ds,\n",
        "  epochs=epochs\n",
        ")"
      ],
      "metadata": {
        "colab": {
          "base_uri": "https://localhost:8080/"
        },
        "id": "nYOtZO520S8q",
        "outputId": "f7ba3ea8-69b8-4d9c-f79d-15f821ecc767"
      },
      "execution_count": null,
      "outputs": [
        {
          "output_type": "stream",
          "name": "stdout",
          "text": [
            "Epoch 1/5\n",
            "130/130 [==============================] - 160s 1s/step - loss: 5.2496 - accuracy: 0.1997 - val_loss: 4.5643 - val_accuracy: 0.1781\n",
            "Epoch 2/5\n",
            "130/130 [==============================] - 157s 1s/step - loss: 4.5644 - accuracy: 0.2036 - val_loss: 4.5643 - val_accuracy: 0.1781\n",
            "Epoch 3/5\n",
            "130/130 [==============================] - 159s 1s/step - loss: 4.5644 - accuracy: 0.2036 - val_loss: 4.5643 - val_accuracy: 0.1781\n",
            "Epoch 4/5\n",
            "130/130 [==============================] - 159s 1s/step - loss: 4.5644 - accuracy: 0.2036 - val_loss: 4.5643 - val_accuracy: 0.1781\n",
            "Epoch 5/5\n",
            "130/130 [==============================] - 158s 1s/step - loss: 4.5644 - accuracy: 0.2036 - val_loss: 4.5643 - val_accuracy: 0.1781\n"
          ]
        }
      ]
    },
    {
      "cell_type": "code",
      "source": [
        "!pip install gradio\n",
        "import gradio as gr"
      ],
      "metadata": {
        "id": "o79oyXo7qodf",
        "colab": {
          "base_uri": "https://localhost:8080/"
        },
        "outputId": "0cd972cd-afc7-41c2-b29c-582b96482e6e"
      },
      "execution_count": null,
      "outputs": [
        {
          "output_type": "stream",
          "name": "stdout",
          "text": [
            "Looking in indexes: https://pypi.org/simple, https://us-python.pkg.dev/colab-wheels/public/simple/\n",
            "Collecting gradio\n",
            "  Downloading gradio-3.12.0-py3-none-any.whl (11.6 MB)\n",
            "\u001b[K     |████████████████████████████████| 11.6 MB 5.4 MB/s \n",
            "\u001b[?25hCollecting python-multipart\n",
            "  Downloading python-multipart-0.0.5.tar.gz (32 kB)\n",
            "Collecting uvicorn\n",
            "  Downloading uvicorn-0.20.0-py3-none-any.whl (56 kB)\n",
            "\u001b[K     |████████████████████████████████| 56 kB 3.6 MB/s \n",
            "\u001b[?25hRequirement already satisfied: aiohttp in /usr/local/lib/python3.8/dist-packages (from gradio) (3.8.3)\n",
            "Collecting websockets>=10.0\n",
            "  Downloading websockets-10.4-cp38-cp38-manylinux_2_5_x86_64.manylinux1_x86_64.manylinux_2_17_x86_64.manylinux2014_x86_64.whl (106 kB)\n",
            "\u001b[K     |████████████████████████████████| 106 kB 54.6 MB/s \n",
            "\u001b[?25hCollecting httpx\n",
            "  Downloading httpx-0.23.1-py3-none-any.whl (84 kB)\n",
            "\u001b[K     |████████████████████████████████| 84 kB 2.6 MB/s \n",
            "\u001b[?25hCollecting fastapi\n",
            "  Downloading fastapi-0.88.0-py3-none-any.whl (55 kB)\n",
            "\u001b[K     |████████████████████████████████| 55 kB 2.7 MB/s \n",
            "\u001b[?25hCollecting orjson\n",
            "  Downloading orjson-3.8.2-cp38-cp38-manylinux_2_17_x86_64.manylinux2014_x86_64.whl (278 kB)\n",
            "\u001b[K     |████████████████████████████████| 278 kB 58.7 MB/s \n",
            "\u001b[?25hCollecting pycryptodome\n",
            "  Downloading pycryptodome-3.16.0-cp35-abi3-manylinux_2_5_x86_64.manylinux1_x86_64.manylinux_2_12_x86_64.manylinux2010_x86_64.whl (2.3 MB)\n",
            "\u001b[K     |████████████████████████████████| 2.3 MB 41.2 MB/s \n",
            "\u001b[?25hRequirement already satisfied: fsspec in /usr/local/lib/python3.8/dist-packages (from gradio) (2022.11.0)\n",
            "Collecting markdown-it-py[linkify,plugins]\n",
            "  Downloading markdown_it_py-2.1.0-py3-none-any.whl (84 kB)\n",
            "\u001b[K     |████████████████████████████████| 84 kB 3.2 MB/s \n",
            "\u001b[?25hCollecting paramiko\n",
            "  Downloading paramiko-2.12.0-py2.py3-none-any.whl (213 kB)\n",
            "\u001b[K     |████████████████████████████████| 213 kB 62.7 MB/s \n",
            "\u001b[?25hRequirement already satisfied: requests in /usr/local/lib/python3.8/dist-packages (from gradio) (2.23.0)\n",
            "Requirement already satisfied: pyyaml in /usr/local/lib/python3.8/dist-packages (from gradio) (6.0)\n",
            "Collecting pydub\n",
            "  Downloading pydub-0.25.1-py2.py3-none-any.whl (32 kB)\n",
            "Requirement already satisfied: matplotlib in /usr/local/lib/python3.8/dist-packages (from gradio) (3.2.2)\n",
            "Requirement already satisfied: pandas in /usr/local/lib/python3.8/dist-packages (from gradio) (1.3.5)\n",
            "Requirement already satisfied: numpy in /usr/local/lib/python3.8/dist-packages (from gradio) (1.21.6)\n",
            "Requirement already satisfied: jinja2 in /usr/local/lib/python3.8/dist-packages (from gradio) (2.11.3)\n",
            "Collecting ffmpy\n",
            "  Downloading ffmpy-0.3.0.tar.gz (4.8 kB)\n",
            "Collecting h11<0.13,>=0.11\n",
            "  Downloading h11-0.12.0-py3-none-any.whl (54 kB)\n",
            "\u001b[K     |████████████████████████████████| 54 kB 2.9 MB/s \n",
            "\u001b[?25hRequirement already satisfied: pydantic in /usr/local/lib/python3.8/dist-packages (from gradio) (1.10.2)\n",
            "Requirement already satisfied: pillow in /usr/local/lib/python3.8/dist-packages (from gradio) (7.1.2)\n",
            "Requirement already satisfied: multidict<7.0,>=4.5 in /usr/local/lib/python3.8/dist-packages (from aiohttp->gradio) (6.0.2)\n",
            "Requirement already satisfied: charset-normalizer<3.0,>=2.0 in /usr/local/lib/python3.8/dist-packages (from aiohttp->gradio) (2.1.1)\n",
            "Requirement already satisfied: attrs>=17.3.0 in /usr/local/lib/python3.8/dist-packages (from aiohttp->gradio) (22.1.0)\n",
            "Requirement already satisfied: yarl<2.0,>=1.0 in /usr/local/lib/python3.8/dist-packages (from aiohttp->gradio) (1.8.1)\n",
            "Requirement already satisfied: frozenlist>=1.1.1 in /usr/local/lib/python3.8/dist-packages (from aiohttp->gradio) (1.3.3)\n",
            "Requirement already satisfied: async-timeout<5.0,>=4.0.0a3 in /usr/local/lib/python3.8/dist-packages (from aiohttp->gradio) (4.0.2)\n",
            "Requirement already satisfied: aiosignal>=1.1.2 in /usr/local/lib/python3.8/dist-packages (from aiohttp->gradio) (1.3.1)\n",
            "Requirement already satisfied: idna>=2.0 in /usr/local/lib/python3.8/dist-packages (from yarl<2.0,>=1.0->aiohttp->gradio) (2.10)\n",
            "Collecting starlette==0.22.0\n",
            "  Downloading starlette-0.22.0-py3-none-any.whl (64 kB)\n",
            "\u001b[K     |████████████████████████████████| 64 kB 2.7 MB/s \n",
            "\u001b[?25hRequirement already satisfied: typing-extensions>=3.10.0 in /usr/local/lib/python3.8/dist-packages (from starlette==0.22.0->fastapi->gradio) (4.1.1)\n",
            "Collecting anyio<5,>=3.4.0\n",
            "  Downloading anyio-3.6.2-py3-none-any.whl (80 kB)\n",
            "\u001b[K     |████████████████████████████████| 80 kB 7.8 MB/s \n",
            "\u001b[?25hCollecting sniffio>=1.1\n",
            "  Downloading sniffio-1.3.0-py3-none-any.whl (10 kB)\n",
            "Collecting httpcore<0.17.0,>=0.15.0\n",
            "  Downloading httpcore-0.16.2-py3-none-any.whl (68 kB)\n",
            "\u001b[K     |████████████████████████████████| 68 kB 7.3 MB/s \n",
            "\u001b[?25hRequirement already satisfied: certifi in /usr/local/lib/python3.8/dist-packages (from httpx->gradio) (2022.9.24)\n",
            "Collecting rfc3986[idna2008]<2,>=1.3\n",
            "  Downloading rfc3986-1.5.0-py2.py3-none-any.whl (31 kB)\n",
            "Collecting httpcore<0.17.0,>=0.15.0\n",
            "  Downloading httpcore-0.16.1-py3-none-any.whl (68 kB)\n",
            "\u001b[K     |████████████████████████████████| 68 kB 6.7 MB/s \n",
            "\u001b[?25h  Downloading httpcore-0.16.0-py3-none-any.whl (68 kB)\n",
            "\u001b[K     |████████████████████████████████| 68 kB 6.7 MB/s \n",
            "\u001b[?25h  Downloading httpcore-0.15.0-py3-none-any.whl (68 kB)\n",
            "\u001b[K     |████████████████████████████████| 68 kB 6.5 MB/s \n",
            "\u001b[?25hRequirement already satisfied: MarkupSafe>=0.23 in /usr/local/lib/python3.8/dist-packages (from jinja2->gradio) (2.0.1)\n",
            "Collecting mdurl~=0.1\n",
            "  Downloading mdurl-0.1.2-py3-none-any.whl (10.0 kB)\n",
            "Collecting linkify-it-py~=1.0\n",
            "  Downloading linkify_it_py-1.0.3-py3-none-any.whl (19 kB)\n",
            "Collecting mdit-py-plugins\n",
            "  Downloading mdit_py_plugins-0.3.1-py3-none-any.whl (46 kB)\n",
            "\u001b[K     |████████████████████████████████| 46 kB 3.7 MB/s \n",
            "\u001b[?25hCollecting uc-micro-py\n",
            "  Downloading uc_micro_py-1.0.1-py3-none-any.whl (6.2 kB)\n",
            "Requirement already satisfied: pyparsing!=2.0.4,!=2.1.2,!=2.1.6,>=2.0.1 in /usr/local/lib/python3.8/dist-packages (from matplotlib->gradio) (3.0.9)\n",
            "Requirement already satisfied: python-dateutil>=2.1 in /usr/local/lib/python3.8/dist-packages (from matplotlib->gradio) (2.8.2)\n",
            "Requirement already satisfied: cycler>=0.10 in /usr/local/lib/python3.8/dist-packages (from matplotlib->gradio) (0.11.0)\n",
            "Requirement already satisfied: kiwisolver>=1.0.1 in /usr/local/lib/python3.8/dist-packages (from matplotlib->gradio) (1.4.4)\n",
            "Requirement already satisfied: six>=1.5 in /usr/local/lib/python3.8/dist-packages (from python-dateutil>=2.1->matplotlib->gradio) (1.15.0)\n",
            "Requirement already satisfied: pytz>=2017.3 in /usr/local/lib/python3.8/dist-packages (from pandas->gradio) (2022.6)\n",
            "Collecting bcrypt>=3.1.3\n",
            "  Downloading bcrypt-4.0.1-cp36-abi3-manylinux_2_24_x86_64.whl (593 kB)\n",
            "\u001b[K     |████████████████████████████████| 593 kB 63.0 MB/s \n",
            "\u001b[?25hCollecting cryptography>=2.5\n",
            "  Downloading cryptography-38.0.4-cp36-abi3-manylinux_2_24_x86_64.whl (4.0 MB)\n",
            "\u001b[K     |████████████████████████████████| 4.0 MB 39.7 MB/s \n",
            "\u001b[?25hCollecting pynacl>=1.0.1\n",
            "  Downloading PyNaCl-1.5.0-cp36-abi3-manylinux_2_17_x86_64.manylinux2014_x86_64.manylinux_2_24_x86_64.whl (856 kB)\n",
            "\u001b[K     |████████████████████████████████| 856 kB 62.7 MB/s \n",
            "\u001b[?25hRequirement already satisfied: cffi>=1.12 in /usr/local/lib/python3.8/dist-packages (from cryptography>=2.5->paramiko->gradio) (1.15.1)\n",
            "Requirement already satisfied: pycparser in /usr/local/lib/python3.8/dist-packages (from cffi>=1.12->cryptography>=2.5->paramiko->gradio) (2.21)\n",
            "Requirement already satisfied: urllib3!=1.25.0,!=1.25.1,<1.26,>=1.21.1 in /usr/local/lib/python3.8/dist-packages (from requests->gradio) (1.24.3)\n",
            "Requirement already satisfied: chardet<4,>=3.0.2 in /usr/local/lib/python3.8/dist-packages (from requests->gradio) (3.0.4)\n",
            "Requirement already satisfied: click>=7.0 in /usr/local/lib/python3.8/dist-packages (from uvicorn->gradio) (7.1.2)\n",
            "Building wheels for collected packages: ffmpy, python-multipart\n",
            "  Building wheel for ffmpy (setup.py) ... \u001b[?25l\u001b[?25hdone\n",
            "  Created wheel for ffmpy: filename=ffmpy-0.3.0-py3-none-any.whl size=4711 sha256=2632720ff3a9c949de6d9d8e5a7ba57b4387db8d676c1204588cca98a876c731\n",
            "  Stored in directory: /root/.cache/pip/wheels/ff/5b/59/913b443e7369dc04b61f607a746b6f7d83fb65e2e19fcc958d\n",
            "  Building wheel for python-multipart (setup.py) ... \u001b[?25l\u001b[?25hdone\n",
            "  Created wheel for python-multipart: filename=python_multipart-0.0.5-py3-none-any.whl size=31678 sha256=8cb7bcd0cd49c047b45cb04f82f4e4caa67e2dbef51bf2cc2778f06a619a7aef\n",
            "  Stored in directory: /root/.cache/pip/wheels/9e/fc/1c/cf980e6413d3ee8e70cd8f39e2366b0f487e3e221aeb452eb0\n",
            "Successfully built ffmpy python-multipart\n",
            "Installing collected packages: sniffio, mdurl, uc-micro-py, rfc3986, markdown-it-py, h11, anyio, starlette, pynacl, mdit-py-plugins, linkify-it-py, httpcore, cryptography, bcrypt, websockets, uvicorn, python-multipart, pydub, pycryptodome, paramiko, orjson, httpx, ffmpy, fastapi, gradio\n",
            "Successfully installed anyio-3.6.2 bcrypt-4.0.1 cryptography-38.0.4 fastapi-0.88.0 ffmpy-0.3.0 gradio-3.12.0 h11-0.12.0 httpcore-0.15.0 httpx-0.23.1 linkify-it-py-1.0.3 markdown-it-py-2.1.0 mdit-py-plugins-0.3.1 mdurl-0.1.2 orjson-3.8.2 paramiko-2.12.0 pycryptodome-3.16.0 pydub-0.25.1 pynacl-1.5.0 python-multipart-0.0.5 rfc3986-1.5.0 sniffio-1.3.0 starlette-0.22.0 uc-micro-py-1.0.1 uvicorn-0.20.0 websockets-10.4\n"
          ]
        }
      ]
    },
    {
      "cell_type": "code",
      "source": [
        "acc = history_cnn_model_1.history['accuracy']\n",
        "val_acc = history_cnn_model_1.history['val_accuracy']\n",
        "\n",
        "loss = history_cnn_model_1.history['loss']\n",
        "val_loss = history_cnn_model_1.history['val_loss']\n",
        "\n",
        "y_ticks = np.array([0, 0.1, 0.2, 0.3, 0.4, 0.5, 0.6, 0.7, 0.8, 0.9, 1, 1.1])\n",
        "epochs_range = range(epochs)\n",
        "\n",
        "plt.figure(figsize=(10, 5))\n",
        "plt.subplot(1, 2, 1)\n",
        "plt.plot(epochs_range, acc, label='Training Accuracy')\n",
        "plt.plot(epochs_range, val_acc, label='Validation Accuracy')\n",
        "plt.yticks(y_ticks)\n",
        "plt.legend(loc='lower right')\n",
        "plt.title('Training and Validation Accuracy')\n",
        "\n",
        "plt.subplot(1, 2, 2)\n",
        "plt.plot(epochs_range, loss, label='Training Loss')\n",
        "plt.plot(epochs_range, val_loss, label='Validation Loss')\n",
        "plt.yticks(y_ticks)\n",
        "plt.legend(loc='upper right')\n",
        "plt.title('Training and Validation Loss')\n",
        "plt.show()"
      ],
      "metadata": {
        "colab": {
          "base_uri": "https://localhost:8080/",
          "height": 336
        },
        "id": "z0lpsLz3Ltaq",
        "outputId": "cd1f2516-744b-4ed7-9bb3-278a6b72ce87"
      },
      "execution_count": null,
      "outputs": [
        {
          "output_type": "display_data",
          "data": {
            "text/plain": [
              "<Figure size 720x360 with 2 Axes>"
            ],
            "image/png": "[encoded data removed]"
          },
          "metadata": {
            "needs_background": "light"
          }
        }
      ]
    },
    {
      "cell_type": "code",
      "source": [
        "import glob\n",
        "from sklearn.model_selection import train_test_split\n",
        "import os\n",
        "\n",
        "data = []\n",
        "labels = []\n",
        "\n",
        "classes = {}\n",
        "classes_dir = enumerate(os.listdir(new_directory))\n",
        "for i, j in classes_dir:\n",
        "    classes[j] = i\n",
        "print(classes)\n",
        "\n",
        "\n",
        "for i in class_names: \n",
        "  image_dir = glob.glob(new_directory + \"/\" + i + \"/*\")\n",
        "  print(i)\n",
        "  for j in image_dir:\n",
        "    image=tf.keras.preprocessing.image.load_img(j, color_mode='rgb', \n",
        "    target_size= (200,200))\n",
        "    image=np.array(image)\n",
        "    data.append(image)\n",
        "    labels.append(classes[i])\n",
        "  #print(labels)\n",
        "  \n",
        "\n",
        "data = np.array(data)\n",
        "labels = np.array(labels)\n",
        "#print(labels)\n",
        "\n",
        "X_train, X_test, ytrain, ytest = train_test_split(data, labels, test_size=0.2,\n",
        "                                                random_state=42)\n",
        "                                                "
      ],
      "metadata": {
        "id": "sjwA4yywskfw",
        "colab": {
          "base_uri": "https://localhost:8080/"
        },
        "outputId": "65834c38-3bd7-4369-d2fc-52fbd779f7e8"
      },
      "execution_count": 44,
      "outputs": [
        {
          "output_type": "stream",
          "name": "stdout",
          "text": [
            "{'fox': 0, 'cheetah': 1, 'hyena': 2, 'lion': 3, 'tiger': 4, 'wolf': 5, 'flagged': 6}\n",
            "cheetah\n",
            "flagged\n",
            "fox\n",
            "hyena\n",
            "lion\n",
            "tiger\n",
            "wolf\n"
          ]
        }
      ]
    },
    {
      "cell_type": "markdown",
      "source": [
        "# **Support Vector Machine**"
      ],
      "metadata": {
        "id": "9WVJN5Qx02Tq"
      }
    },
    {
      "cell_type": "code",
      "source": [
        "svm_model = Sequential()\n",
        "svm_model.add(Conv2D(filters = 32, padding = \"same\",activation = \"relu\",kernel_size=3, strides = 2,input_shape=(200,200,3)))\n",
        "svm_model.add(MaxPool2D(pool_size=(6,6),strides = 6))\n",
        "\n",
        "svm_model.add(Conv2D(filters = 64, padding = \"same\",activation = \"relu\",kernel_size=3))\n",
        "svm_model.add(MaxPool2D(pool_size=(6,6),strides = 6))\n",
        "\n",
        "svm_model.add(Flatten())\n",
        "svm_model.add(Dense(128,activation=\"relu\"))\n",
        "\n",
        "#Output layer\n",
        "svm_model.add(Dense(6,kernel_regularizer=tf.keras.regularizers.L1(0.01),activation = \"softmax\"))"
      ],
      "metadata": {
        "id": "Bs4t1psR-Myi"
      },
      "execution_count": 130,
      "outputs": []
    },
    {
      "cell_type": "code",
      "source": [
        "svm_model.compile(optimizer='adam',\n",
        "              loss=tf.keras.losses.SquaredHinge(),\n",
        "              metrics=['accuracy'])"
      ],
      "metadata": {
        "id": "Nx58NPMH_AG_"
      },
      "execution_count": 131,
      "outputs": []
    },
    {
      "cell_type": "code",
      "source": [
        "epochs = 10\n",
        "history_svm_model = svm_model.fit(\n",
        "  train_ds,\n",
        "  validation_data=val_ds,\n",
        "  epochs=epochs\n",
        ")"
      ],
      "metadata": {
        "id": "4UJOrRj_GIi2"
      },
      "execution_count": null,
      "outputs": []
    },
    {
      "cell_type": "markdown",
      "source": [
        "Import all necessory classifiers."
      ],
      "metadata": {
        "id": "-9CQOn01zjt6"
      }
    },
    {
      "cell_type": "code",
      "source": [
        "from sklearn.metrics import accuracy_score,confusion_matrix,classification_report\n",
        "from sklearn.ensemble import RandomForestClassifier\n",
        "from sklearn.neighbors import KNeighborsClassifier\n",
        "from sklearn.tree import DecisionTreeClassifier"
      ],
      "metadata": {
        "id": "AvvvHC1u062N"
      },
      "execution_count": 53,
      "outputs": []
    },
    {
      "cell_type": "markdown",
      "source": [
        "Reshape the trained and validation dataset"
      ],
      "metadata": {
        "id": "RMBETmXSzoH9"
      }
    },
    {
      "cell_type": "code",
      "source": [
        "np.unique(ytrain)\n",
        "nsamples, nx, ny, nz = X_train.shape\n",
        "X_train_modified = X_train.reshape((nsamples,nx*ny*nz))\n",
        "nsamples, nx, ny, nz = X_test.shape\n",
        "X_test_modified = X_test.reshape((nsamples,nx*ny*nz))"
      ],
      "metadata": {
        "id": "5y2lhbg83c0Y"
      },
      "execution_count": 55,
      "outputs": []
    },
    {
      "cell_type": "markdown",
      "source": [
        "# **Random Forest Classifier**"
      ],
      "metadata": {
        "id": "MrfVjFELzcbe"
      }
    },
    {
      "cell_type": "code",
      "source": [
        "## Random Forest Classification\n",
        "random_forest_model = RandomForestClassifier()\n",
        "random_forest_model.fit(X_train_modified,ytrain)\n",
        "random_forest_model_prdiction = random_forest_model.predict(X_test_modified)\n",
        "accuracy_score(random_forest_model_prdiction,ytest)\n",
        "print(\"Report of Random Forest Classification - \")\n",
        "print(classification_report(random_forest_model_prdiction,ytest))"
      ],
      "metadata": {
        "colab": {
          "base_uri": "https://localhost:8080/"
        },
        "id": "w3NLTpvCsBkh",
        "outputId": "39830203-dbc0-4c5f-fa3d-93dac7d0a2e8"
      },
      "execution_count": 51,
      "outputs": [
        {
          "output_type": "stream",
          "name": "stdout",
          "text": [
            "Report of Random Forest Classification - \n",
            "              precision    recall  f1-score   support\n",
            "\n",
            "           0       0.96      0.99      0.98       146\n",
            "           1       0.99      0.97      0.98       224\n",
            "           2       1.00      0.98      0.99       172\n",
            "           3       0.99      0.99      0.99       156\n",
            "           4       0.96      0.99      0.97       169\n",
            "           5       0.98      0.95      0.96       167\n",
            "\n",
            "    accuracy                           0.98      1034\n",
            "   macro avg       0.98      0.98      0.98      1034\n",
            "weighted avg       0.98      0.98      0.98      1034\n",
            "\n"
          ]
        }
      ]
    },
    {
      "cell_type": "markdown",
      "source": [
        "# **KNN Classifier**"
      ],
      "metadata": {
        "id": "_tHjodBjzzuj"
      }
    },
    {
      "cell_type": "code",
      "source": [
        "## KNN classification\n",
        "knn_classifier_model = KNeighborsClassifier(n_neighbors=10)\n",
        "knn_classifier_model.fit(X_train_modified,ytrain)\n",
        "knn_classifier_prediction = knn_classifier_model.predict(X_test_modified)\n",
        "accuracy_score(knn_classifier_prediction,ytest)\n",
        "print(\"Report of KNN Classification - \")\n",
        "print(classification_report(knn_classifier_prediction,ytest))"
      ],
      "metadata": {
        "colab": {
          "base_uri": "https://localhost:8080/"
        },
        "id": "XaKsT0MCzavj",
        "outputId": "27d6c300-72a8-4206-f6ee-454f532664a6"
      },
      "execution_count": 60,
      "outputs": [
        {
          "output_type": "stream",
          "name": "stdout",
          "text": [
            "Report of KNN Classification - \n",
            "              precision    recall  f1-score   support\n",
            "\n",
            "           0       0.43      0.39      0.41       167\n",
            "           1       0.59      0.45      0.51       292\n",
            "           2       0.46      0.36      0.40       212\n",
            "           3       0.65      0.42      0.51       241\n",
            "           4       0.07      0.75      0.13        16\n",
            "           5       0.38      0.58      0.46       106\n",
            "\n",
            "    accuracy                           0.43      1034\n",
            "   macro avg       0.43      0.49      0.40      1034\n",
            "weighted avg       0.52      0.43      0.46      1034\n",
            "\n"
          ]
        }
      ]
    },
    {
      "cell_type": "markdown",
      "source": [
        "# **Decision Tree Classifier**"
      ],
      "metadata": {
        "id": "u9VrMy51z5yH"
      }
    },
    {
      "cell_type": "code",
      "source": [
        "## Decision Tree Classification\n",
        "decision_tree_classifier_model = DecisionTreeClassifier()\n",
        "decision_tree_classifier_model.fit(X_train_modified,ytrain)\n",
        "decision_tree_prediction = decision_tree_classifier_model.predict(X_test_modified)\n",
        "accuracy_score(decision_tree_prediction,ytest)\n",
        "print(\"Report of Decision Tree Classification - \")\n",
        "print(classification_report(decision_tree_prediction,ytest))"
      ],
      "metadata": {
        "colab": {
          "base_uri": "https://localhost:8080/"
        },
        "id": "O-_R1wGJ1IbE",
        "outputId": "5c6fd704-d280-400f-fe25-479c34591521"
      },
      "execution_count": 58,
      "outputs": [
        {
          "output_type": "stream",
          "name": "stdout",
          "text": [
            "Report of Decision Tree Classification - \n",
            "              precision    recall  f1-score   support\n",
            "\n",
            "           0       0.72      0.80      0.76       137\n",
            "           1       0.82      0.78      0.80       233\n",
            "           2       0.79      0.73      0.76       184\n",
            "           3       0.76      0.74      0.75       161\n",
            "           4       0.63      0.72      0.67       153\n",
            "           5       0.77      0.75      0.76       166\n",
            "\n",
            "    accuracy                           0.75      1034\n",
            "   macro avg       0.75      0.75      0.75      1034\n",
            "weighted avg       0.76      0.75      0.75      1034\n",
            "\n"
          ]
        }
      ]
    },
    {
      "cell_type": "markdown",
      "source": [
        "# **Comparing Different Models**"
      ],
      "metadata": {
        "id": "H5dieHw989Z1"
      }
    },
    {
      "cell_type": "code",
      "source": [
        "import pandas as pd\n",
        "import matplotlib.pyplot as plt\n",
        "\n",
        "models = ['CNN_Sequential_Model_1', 'SVM', 'kNN', 'Decision Tree', 'Random Forest Classifier']\n",
        "val_accuracies = [0.9971, 0.58345, 0.43, 0.75, 0.98] # hardcoded the results from the output of report/history\n",
        "X_axis = np.arange(len(models))\n",
        "fig = plt.figure(figsize = (13, 6))\n",
        " \n",
        "# creating the bar plot\n",
        "plt.bar(X_axis, val_accuracies, width = 0.4)\n",
        "plt.xticks(X_axis, models)\n",
        "plt.xlabel(\"Experimental ML models built\")\n",
        "plt.ylabel(\"Accuracies\")\n",
        "plt.title(\"Accuracy of all ML Models\")\n",
        "plt.legend(bbox_to_anchor=(1.15, 1.05))\n",
        "plt.show()"
      ],
      "metadata": {
        "colab": {
          "base_uri": "https://localhost:8080/",
          "height": 423
        },
        "id": "05e-3foWCEJx",
        "outputId": "f7778ec6-ea81-42b3-b392-dafccce14825"
      },
      "execution_count": 133,
      "outputs": [
        {
          "output_type": "stream",
          "name": "stderr",
          "text": [
            "WARNING:matplotlib.legend:No handles with labels found to put in legend.\n"
          ]
        },
        {
          "output_type": "display_data",
          "data": {
            "text/plain": [
              "<Figure size 936x432 with 1 Axes>"
            ],
            "image/png": "[encoded data removed]"
          },
          "metadata": {
            "needs_background": "light"
          }
        }
      ]
    },
    {
      "cell_type": "code",
      "source": [
        "def predict_wildlife_image(model_choice, image_to_classify):\n",
        "  if str(image_to_classify) == \"CNN Sequential Model\":\n",
        "    wildlife_image_4d = image_to_classify.reshape(-1,200,200,3)\n",
        "    prediction = cnn_model_1.predict(wildlife_image_4d)[0]\n",
        "    return {class_names[i]: float(prediction[i]) for i in range(6)}\n",
        "  elif str(image_to_classify) == \"kNN\":\n",
        "    wildlife_image_4d = image_to_classify.reshape(-1,200,200,3)\n",
        "    prediction = knn_classifier_model.predict(wildlife_image_4d)[0]\n",
        "    return {class_names[i]: float(prediction[i]) for i in range(6)}\n",
        "  elif str(image_to_classify) == \"SVM\":\n",
        "    wildlife_image_4d = image_to_classify.reshape(-1,200,200,3)\n",
        "    prediction = svm_model.predict(wildlife_image_4d)[0]\n",
        "    return {class_names[i]: float(prediction[i]) for i in range(6)}\n",
        "  elif str(image_to_classify) == \"Random Forest Classifier\":\n",
        "    wildlife_image_4d = random_forest_model.reshape(-1,200,200,3)\n",
        "    prediction = knn_classifier_model.predict(wildlife_image_4d)[0]\n",
        "    return {class_names[i]: float(prediction[i]) for i in range(6)}\n",
        "  elif str(image_to_classify) == \"Decision Tree\":\n",
        "    wildlife_image_4d = decision_tree_classifier_model.reshape(-1,200,200,3)\n",
        "    prediction = knn_classifier_model.predict(wildlife_image_4d)[0]\n",
        "    return {class_names[i]: float(prediction[i]) for i in range(6)}\n",
        "\n",
        "\n",
        "image = gr.inputs.Image(shape=(200,200))\n",
        "label = gr.outputs.Label(num_top_classes=6)\n",
        "title = \"Wildlife Image Classifier App\"\n",
        "description = \"CSE5334 - Final Project: This is a wildlife image classifier app which classifies an uploaded image to one of the six classes as - Cheetah, Fox, Hyena, Wolf, Lion and Tiger\"\n",
        "\n",
        "gr.Interface(fn=predict_wildlife_image, inputs=[gr.inputs.Dropdown([\"CNN Sequential Model\", \"kNN\", \"SVM\", \"Random Forest Classifier\", \"Decision Tree\"]), image], outputs=label, title=title, description=description).launch(debug='True')"
      ],
      "metadata": {
        "colab": {
          "base_uri": "https://localhost:8080/",
          "height": 834
        },
        "id": "1KkdJzal3R8o",
        "outputId": "795c6ab2-9d52-47d0-9546-dd9637c4046b"
      },
      "execution_count": 134,
      "outputs": [
        {
          "output_type": "stream",
          "name": "stderr",
          "text": [
            "/usr/local/lib/python3.8/dist-packages/gradio/inputs.py:256: UserWarning: Usage of gradio.inputs is deprecated, and will not be supported in the future, please import your component from gradio.components\n",
            "  warnings.warn(\n",
            "/usr/local/lib/python3.8/dist-packages/gradio/deprecation.py:40: UserWarning: `optional` parameter is deprecated, and it has no effect\n",
            "  warnings.warn(value)\n",
            "/usr/local/lib/python3.8/dist-packages/gradio/outputs.py:196: UserWarning: Usage of gradio.outputs is deprecated, and will not be supported in the future, please import your components from gradio.components\n",
            "  warnings.warn(\n",
            "/usr/local/lib/python3.8/dist-packages/gradio/deprecation.py:40: UserWarning: The 'type' parameter has been deprecated. Use the Number component instead.\n",
            "  warnings.warn(value)\n",
            "/usr/local/lib/python3.8/dist-packages/gradio/inputs.py:216: UserWarning: Usage of gradio.inputs is deprecated, and will not be supported in the future, please import your component from gradio.components\n",
            "  warnings.warn(\n"
          ]
        },
        {
          "output_type": "stream",
          "name": "stdout",
          "text": [
            "Colab notebook detected. This cell will run indefinitely so that you can see errors and logs. To turn off, set debug=False in launch().\n",
            "Note: opening Chrome Inspector may crash demo inside Colab notebooks.\n",
            "\n",
            "To create a public link, set `share=True` in `launch()`.\n"
          ]
        },
        {
          "output_type": "display_data",
          "data": {
            "text/plain": [
              "<IPython.core.display.Javascript object>"
            ],
            "application/javascript": [
              "(async (port, path, width, height, cache, element) => {\n",
              "                        if (!google.colab.kernel.accessAllowed && !cache) {\n",
              "                            return;\n",
              "                        }\n",
              "                        element.appendChild(document.createTextNode(''));\n",
              "                        const url = await google.colab.kernel.proxyPort(port, {cache});\n",
              "\n",
              "                        const external_link = document.createElement('div');\n",
              "                        external_link.innerHTML = `\n",
              "                            <div style=\"font-family: monospace; margin-bottom: 0.5rem\">\n",
              "                                Running on <a href=${new URL(path, url).toString()} target=\"_blank\">\n",
              "                                    https://localhost:${port}${path}\n",
              "                                </a>\n",
              "                            </div>\n",
              "                        `;\n",
              "                        element.appendChild(external_link);\n",
              "\n",
              "                        const iframe = document.createElement('iframe');\n",
              "                        iframe.src = new URL(path, url).toString();\n",
              "                        iframe.height = height;\n",
              "                        iframe.allow = \"autoplay; camera; microphone; clipboard-read; clipboard-write;\"\n",
              "                        iframe.width = width;\n",
              "                        iframe.style.border = 0;\n",
              "                        element.appendChild(iframe);\n",
              "                    })(7873, \"/\", \"100%\", 500, false, window.element)"
            ]
          },
          "metadata": {}
        },
        {
          "output_type": "stream",
          "name": "stdout",
          "text": [
            "Keyboard interruption in main thread... closing server.\n"
          ]
        },
        {
          "output_type": "execute_result",
          "data": {
            "text/plain": []
          },
          "metadata": {},
          "execution_count": 134
        }
      ]
    }
  ]
}